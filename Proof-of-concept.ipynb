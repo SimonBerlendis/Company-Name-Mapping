{
 "cells": [
  {
   "cell_type": "markdown",
   "id": "0dd3a35a",
   "metadata": {},
   "source": [
    "# Proof-of-concept: Company name mapping\n",
    "\n",
    "This jupyter notebook is used as a fully-documented proof-of-concept. \n",
    "Different concepts are tested and evaluated.\n"
   ]
  },
  {
   "cell_type": "markdown",
   "id": "87a0a30f",
   "metadata": {},
   "source": [
    "## 1. Introduction: presentation of the study case\n"
   ]
  },
  {
   "cell_type": "markdown",
   "id": "a3560c80",
   "metadata": {},
   "source": [
    "The case study is quite simple. A list of company names is provided. All these names were manually written. As a result, some of the names refer to the same entity but written differently. For instance, division names are written alongside the company name (i.e. ALTRAN INNOVACION for ALTRAN). Or the names can be written in non-standard way, with non-english characters or with common naming (i.e. 'INC.' or '& CO'). \n",
    "\n",
    "The goal is to group the names from the entity. An algorithm need then to be designed to efficiently map the names to their common entity, possibly written in a standardized way. Several answers can be given for a given name in order to let the user easily choose the proper entity name. \n",
    "\n",
    "The case study comes with a dataset of 5000 raw company names. One of the major requirement for the algorithm is that it should be scalable to a larger dataset (e.g. 100,000 names). "
   ]
  },
  {
   "cell_type": "markdown",
   "id": "2896399e",
   "metadata": {},
   "source": [
    "## 2. Analyzing the problem"
   ]
  },
  {
   "cell_type": "markdown",
   "id": "8449e620",
   "metadata": {},
   "source": [
    "## 3. Pre-processing the data\n"
   ]
  },
  {
   "cell_type": "markdown",
   "id": "eadc2013",
   "metadata": {},
   "source": [
    "## 4. Finding the good word-similarity metric"
   ]
  },
  {
   "cell_type": "markdown",
   "id": "26df52fa",
   "metadata": {},
   "source": [
    "## 5. Clustering the names "
   ]
  },
  {
   "cell_type": "markdown",
   "id": "5a87d32f",
   "metadata": {},
   "source": [
    "## 6. Presenting the result"
   ]
  },
  {
   "cell_type": "markdown",
   "id": "165d802d",
   "metadata": {},
   "source": [
    "## 7. Evaluating the performance"
   ]
  }
 ],
 "metadata": {
  "kernelspec": {
   "display_name": "Python 3 (ipykernel)",
   "language": "python",
   "name": "python3"
  },
  "language_info": {
   "codemirror_mode": {
    "name": "ipython",
    "version": 3
   },
   "file_extension": ".py",
   "mimetype": "text/x-python",
   "name": "python",
   "nbconvert_exporter": "python",
   "pygments_lexer": "ipython3",
   "version": "3.8.10"
  }
 },
 "nbformat": 4,
 "nbformat_minor": 5
}
